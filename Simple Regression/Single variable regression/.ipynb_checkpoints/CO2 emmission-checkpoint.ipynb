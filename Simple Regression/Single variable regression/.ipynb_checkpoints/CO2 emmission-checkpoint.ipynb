{
 "cells": [
  {
   "cell_type": "code",
   "execution_count": 1,
   "metadata": {},
   "outputs": [],
   "source": [
    "import matplotlib.pyplot as plt\n",
    "import pandas as pd\n",
    "import pylab as pl\n",
    "import numpy as np\n",
    "%matplotlib inline"
   ]
  },
  {
   "cell_type": "code",
   "execution_count": 2,
   "metadata": {},
   "outputs": [],
   "source": [
    "df = pd.read_csv(\"Greenhouse_Gas_Emissions_From_Fuel_Combustion__By_Fuel_Type__Million_Metric_Tons.csv\")"
   ]
  },
  {
   "cell_type": "markdown",
   "metadata": {},
   "source": [
    "# Seeing the data"
   ]
  },
  {
   "cell_type": "code",
   "execution_count": 3,
   "metadata": {},
   "outputs": [
    {
     "data": {
      "text/html": [
       "<div>\n",
       "<style scoped>\n",
       "    .dataframe tbody tr th:only-of-type {\n",
       "        vertical-align: middle;\n",
       "    }\n",
       "\n",
       "    .dataframe tbody tr th {\n",
       "        vertical-align: top;\n",
       "    }\n",
       "\n",
       "    .dataframe thead th {\n",
       "        text-align: right;\n",
       "    }\n",
       "</style>\n",
       "<table border=\"1\" class=\"dataframe\">\n",
       "  <thead>\n",
       "    <tr style=\"text-align: right;\">\n",
       "      <th></th>\n",
       "      <th>Year</th>\n",
       "      <th>Fuel Type</th>\n",
       "      <th>Transportation</th>\n",
       "      <th>Electricity Generation</th>\n",
       "      <th>Residential</th>\n",
       "      <th>Commercial</th>\n",
       "      <th>Industrial</th>\n",
       "      <th>Total CO2 Emissions</th>\n",
       "      <th>Percent of Total CO2 Emissions</th>\n",
       "    </tr>\n",
       "  </thead>\n",
       "  <tbody>\n",
       "    <tr>\n",
       "      <th>0</th>\n",
       "      <td>2016</td>\n",
       "      <td>Coal</td>\n",
       "      <td>NaN</td>\n",
       "      <td>1.45</td>\n",
       "      <td>NaN</td>\n",
       "      <td>NaN</td>\n",
       "      <td>1.82</td>\n",
       "      <td>3.26</td>\n",
       "      <td>2.0</td>\n",
       "    </tr>\n",
       "    <tr>\n",
       "      <th>1</th>\n",
       "      <td>2016</td>\n",
       "      <td>Diesel Fuel (Distillate)</td>\n",
       "      <td>12.57</td>\n",
       "      <td>NaN</td>\n",
       "      <td>NaN</td>\n",
       "      <td>NaN</td>\n",
       "      <td>NaN</td>\n",
       "      <td>12.57</td>\n",
       "      <td>7.6</td>\n",
       "    </tr>\n",
       "    <tr>\n",
       "      <th>2</th>\n",
       "      <td>2016</td>\n",
       "      <td>Gasoline</td>\n",
       "      <td>46.81</td>\n",
       "      <td>NaN</td>\n",
       "      <td>NaN</td>\n",
       "      <td>NaN</td>\n",
       "      <td>NaN</td>\n",
       "      <td>46.81</td>\n",
       "      <td>28.2</td>\n",
       "    </tr>\n",
       "    <tr>\n",
       "      <th>3</th>\n",
       "      <td>2016</td>\n",
       "      <td>Heating Oil (Distillate)</td>\n",
       "      <td>NaN</td>\n",
       "      <td>0.15</td>\n",
       "      <td>6.62</td>\n",
       "      <td>3.45</td>\n",
       "      <td>0.80</td>\n",
       "      <td>11.01</td>\n",
       "      <td>6.6</td>\n",
       "    </tr>\n",
       "    <tr>\n",
       "      <th>4</th>\n",
       "      <td>2016</td>\n",
       "      <td>Jet Fuel</td>\n",
       "      <td>10.19</td>\n",
       "      <td>NaN</td>\n",
       "      <td>NaN</td>\n",
       "      <td>NaN</td>\n",
       "      <td>NaN</td>\n",
       "      <td>10.19</td>\n",
       "      <td>6.1</td>\n",
       "    </tr>\n",
       "  </tbody>\n",
       "</table>\n",
       "</div>"
      ],
      "text/plain": [
       "   Year                 Fuel Type  Transportation  Electricity Generation  \\\n",
       "0  2016                      Coal             NaN                    1.45   \n",
       "1  2016  Diesel Fuel (Distillate)           12.57                     NaN   \n",
       "2  2016                  Gasoline           46.81                     NaN   \n",
       "3  2016  Heating Oil (Distillate)             NaN                    0.15   \n",
       "4  2016                  Jet Fuel           10.19                     NaN   \n",
       "\n",
       "   Residential  Commercial  Industrial  Total CO2 Emissions  \\\n",
       "0          NaN         NaN        1.82                 3.26   \n",
       "1          NaN         NaN         NaN                12.57   \n",
       "2          NaN         NaN         NaN                46.81   \n",
       "3         6.62        3.45        0.80                11.01   \n",
       "4          NaN         NaN         NaN                10.19   \n",
       "\n",
       "   Percent of Total CO2 Emissions  \n",
       "0                             2.0  \n",
       "1                             7.6  \n",
       "2                            28.2  \n",
       "3                             6.6  \n",
       "4                             6.1  "
      ]
     },
     "execution_count": 3,
     "metadata": {},
     "output_type": "execute_result"
    }
   ],
   "source": [
    "df.head(5)"
   ]
  },
  {
   "cell_type": "code",
   "execution_count": 9,
   "metadata": {},
   "outputs": [
    {
     "data": {
      "text/html": [
       "<div>\n",
       "<style scoped>\n",
       "    .dataframe tbody tr th:only-of-type {\n",
       "        vertical-align: middle;\n",
       "    }\n",
       "\n",
       "    .dataframe tbody tr th {\n",
       "        vertical-align: top;\n",
       "    }\n",
       "\n",
       "    .dataframe thead th {\n",
       "        text-align: right;\n",
       "    }\n",
       "</style>\n",
       "<table border=\"1\" class=\"dataframe\">\n",
       "  <thead>\n",
       "    <tr style=\"text-align: right;\">\n",
       "      <th></th>\n",
       "      <th>Year</th>\n",
       "      <th>Transportation</th>\n",
       "      <th>Electricity Generation</th>\n",
       "      <th>Residential</th>\n",
       "      <th>Commercial</th>\n",
       "      <th>Industrial</th>\n",
       "      <th>Total CO2 Emissions</th>\n",
       "      <th>Percent of Total CO2 Emissions</th>\n",
       "    </tr>\n",
       "  </thead>\n",
       "  <tbody>\n",
       "    <tr>\n",
       "      <th>count</th>\n",
       "      <td>63.000000</td>\n",
       "      <td>42.000000</td>\n",
       "      <td>35.000000</td>\n",
       "      <td>21.000000</td>\n",
       "      <td>30.000000</td>\n",
       "      <td>35.000000</td>\n",
       "      <td>63.000000</td>\n",
       "      <td>63.000000</td>\n",
       "    </tr>\n",
       "    <tr>\n",
       "      <th>mean</th>\n",
       "      <td>2013.000000</td>\n",
       "      <td>12.115238</td>\n",
       "      <td>7.347714</td>\n",
       "      <td>10.752381</td>\n",
       "      <td>5.190667</td>\n",
       "      <td>2.092571</td>\n",
       "      <td>19.376349</td>\n",
       "      <td>11.114286</td>\n",
       "    </tr>\n",
       "    <tr>\n",
       "      <th>std</th>\n",
       "      <td>2.016065</td>\n",
       "      <td>17.101352</td>\n",
       "      <td>9.468318</td>\n",
       "      <td>9.037972</td>\n",
       "      <td>6.403459</td>\n",
       "      <td>1.827374</td>\n",
       "      <td>22.317065</td>\n",
       "      <td>12.834993</td>\n",
       "    </tr>\n",
       "    <tr>\n",
       "      <th>min</th>\n",
       "      <td>2010.000000</td>\n",
       "      <td>0.330000</td>\n",
       "      <td>0.140000</td>\n",
       "      <td>1.190000</td>\n",
       "      <td>0.010000</td>\n",
       "      <td>0.200000</td>\n",
       "      <td>3.000000</td>\n",
       "      <td>1.800000</td>\n",
       "    </tr>\n",
       "    <tr>\n",
       "      <th>25%</th>\n",
       "      <td>2011.000000</td>\n",
       "      <td>0.482500</td>\n",
       "      <td>0.390000</td>\n",
       "      <td>1.780000</td>\n",
       "      <td>0.445000</td>\n",
       "      <td>0.855000</td>\n",
       "      <td>4.515000</td>\n",
       "      <td>2.600000</td>\n",
       "    </tr>\n",
       "    <tr>\n",
       "      <th>50%</th>\n",
       "      <td>2013.000000</td>\n",
       "      <td>4.340000</td>\n",
       "      <td>3.800000</td>\n",
       "      <td>8.400000</td>\n",
       "      <td>3.400000</td>\n",
       "      <td>1.720000</td>\n",
       "      <td>10.190000</td>\n",
       "      <td>5.600000</td>\n",
       "    </tr>\n",
       "    <tr>\n",
       "      <th>75%</th>\n",
       "      <td>2015.000000</td>\n",
       "      <td>12.730000</td>\n",
       "      <td>9.165000</td>\n",
       "      <td>21.200000</td>\n",
       "      <td>4.372500</td>\n",
       "      <td>2.275000</td>\n",
       "      <td>14.310000</td>\n",
       "      <td>8.300000</td>\n",
       "    </tr>\n",
       "    <tr>\n",
       "      <th>max</th>\n",
       "      <td>2016.000000</td>\n",
       "      <td>49.820000</td>\n",
       "      <td>27.250000</td>\n",
       "      <td>25.130000</td>\n",
       "      <td>17.550000</td>\n",
       "      <td>6.170000</td>\n",
       "      <td>74.410000</td>\n",
       "      <td>42.900000</td>\n",
       "    </tr>\n",
       "  </tbody>\n",
       "</table>\n",
       "</div>"
      ],
      "text/plain": [
       "              Year  Transportation  Electricity Generation  Residential  \\\n",
       "count    63.000000       42.000000               35.000000    21.000000   \n",
       "mean   2013.000000       12.115238                7.347714    10.752381   \n",
       "std       2.016065       17.101352                9.468318     9.037972   \n",
       "min    2010.000000        0.330000                0.140000     1.190000   \n",
       "25%    2011.000000        0.482500                0.390000     1.780000   \n",
       "50%    2013.000000        4.340000                3.800000     8.400000   \n",
       "75%    2015.000000       12.730000                9.165000    21.200000   \n",
       "max    2016.000000       49.820000               27.250000    25.130000   \n",
       "\n",
       "       Commercial  Industrial  Total CO2 Emissions  \\\n",
       "count   30.000000   35.000000            63.000000   \n",
       "mean     5.190667    2.092571            19.376349   \n",
       "std      6.403459    1.827374            22.317065   \n",
       "min      0.010000    0.200000             3.000000   \n",
       "25%      0.445000    0.855000             4.515000   \n",
       "50%      3.400000    1.720000            10.190000   \n",
       "75%      4.372500    2.275000            14.310000   \n",
       "max     17.550000    6.170000            74.410000   \n",
       "\n",
       "       Percent of Total CO2 Emissions  \n",
       "count                       63.000000  \n",
       "mean                        11.114286  \n",
       "std                         12.834993  \n",
       "min                          1.800000  \n",
       "25%                          2.600000  \n",
       "50%                          5.600000  \n",
       "75%                          8.300000  \n",
       "max                         42.900000  "
      ]
     },
     "execution_count": 9,
     "metadata": {},
     "output_type": "execute_result"
    }
   ],
   "source": [
    "df.describe()"
   ]
  },
  {
   "cell_type": "code",
   "execution_count": 4,
   "metadata": {},
   "outputs": [
    {
     "data": {
      "text/plain": [
       "Year                               0\n",
       "Fuel Type                          0\n",
       "Transportation                    21\n",
       "Electricity Generation            28\n",
       "Residential                       42\n",
       "Commercial                        33\n",
       "Industrial                        28\n",
       "Total CO2 Emissions                0\n",
       "Percent of Total CO2 Emissions     0\n",
       "dtype: int64"
      ]
     },
     "execution_count": 4,
     "metadata": {},
     "output_type": "execute_result"
    }
   ],
   "source": [
    "df.isna().sum()"
   ]
  },
  {
   "cell_type": "code",
   "execution_count": 6,
   "metadata": {},
   "outputs": [
    {
     "data": {
      "text/plain": [
       "(63, 9)"
      ]
     },
     "execution_count": 6,
     "metadata": {},
     "output_type": "execute_result"
    }
   ],
   "source": [
    "df.shape"
   ]
  },
  {
   "cell_type": "markdown",
   "metadata": {},
   "source": [
    "selecting a few features"
   ]
  },
  {
   "cell_type": "code",
   "execution_count": 10,
   "metadata": {},
   "outputs": [],
   "source": [
    "cdf = df[['Transportation',\"Electricity Generation\",\"Residential\",\"Commercial\",\"Industrial\",\"Percent of Total CO2 Emissions\"]]"
   ]
  },
  {
   "cell_type": "code",
   "execution_count": 11,
   "metadata": {},
   "outputs": [
    {
     "data": {
      "text/html": [
       "<div>\n",
       "<style scoped>\n",
       "    .dataframe tbody tr th:only-of-type {\n",
       "        vertical-align: middle;\n",
       "    }\n",
       "\n",
       "    .dataframe tbody tr th {\n",
       "        vertical-align: top;\n",
       "    }\n",
       "\n",
       "    .dataframe thead th {\n",
       "        text-align: right;\n",
       "    }\n",
       "</style>\n",
       "<table border=\"1\" class=\"dataframe\">\n",
       "  <thead>\n",
       "    <tr style=\"text-align: right;\">\n",
       "      <th></th>\n",
       "      <th>Transportation</th>\n",
       "      <th>Electricity Generation</th>\n",
       "      <th>Residential</th>\n",
       "      <th>Commercial</th>\n",
       "      <th>Industrial</th>\n",
       "      <th>Percent of Total CO2 Emissions</th>\n",
       "    </tr>\n",
       "  </thead>\n",
       "  <tbody>\n",
       "    <tr>\n",
       "      <th>0</th>\n",
       "      <td>NaN</td>\n",
       "      <td>1.45</td>\n",
       "      <td>NaN</td>\n",
       "      <td>NaN</td>\n",
       "      <td>1.82</td>\n",
       "      <td>2.0</td>\n",
       "    </tr>\n",
       "    <tr>\n",
       "      <th>1</th>\n",
       "      <td>12.57</td>\n",
       "      <td>NaN</td>\n",
       "      <td>NaN</td>\n",
       "      <td>NaN</td>\n",
       "      <td>NaN</td>\n",
       "      <td>7.6</td>\n",
       "    </tr>\n",
       "    <tr>\n",
       "      <th>2</th>\n",
       "      <td>46.81</td>\n",
       "      <td>NaN</td>\n",
       "      <td>NaN</td>\n",
       "      <td>NaN</td>\n",
       "      <td>NaN</td>\n",
       "      <td>28.2</td>\n",
       "    </tr>\n",
       "    <tr>\n",
       "      <th>3</th>\n",
       "      <td>NaN</td>\n",
       "      <td>0.15</td>\n",
       "      <td>6.62</td>\n",
       "      <td>3.45</td>\n",
       "      <td>0.80</td>\n",
       "      <td>6.6</td>\n",
       "    </tr>\n",
       "    <tr>\n",
       "      <th>4</th>\n",
       "      <td>10.19</td>\n",
       "      <td>NaN</td>\n",
       "      <td>NaN</td>\n",
       "      <td>NaN</td>\n",
       "      <td>NaN</td>\n",
       "      <td>6.1</td>\n",
       "    </tr>\n",
       "  </tbody>\n",
       "</table>\n",
       "</div>"
      ],
      "text/plain": [
       "   Transportation  Electricity Generation  Residential  Commercial  \\\n",
       "0             NaN                    1.45          NaN         NaN   \n",
       "1           12.57                     NaN          NaN         NaN   \n",
       "2           46.81                     NaN          NaN         NaN   \n",
       "3             NaN                    0.15         6.62        3.45   \n",
       "4           10.19                     NaN          NaN         NaN   \n",
       "\n",
       "   Industrial  Percent of Total CO2 Emissions  \n",
       "0        1.82                             2.0  \n",
       "1         NaN                             7.6  \n",
       "2         NaN                            28.2  \n",
       "3        0.80                             6.6  \n",
       "4         NaN                             6.1  "
      ]
     },
     "execution_count": 11,
     "metadata": {},
     "output_type": "execute_result"
    }
   ],
   "source": [
    "cdf.head()"
   ]
  },
  {
   "cell_type": "code",
   "execution_count": 51,
   "metadata": {},
   "outputs": [
    {
     "name": "stderr",
     "output_type": "stream",
     "text": [
      "c:\\users\\chinu\\appdata\\local\\programs\\python\\python37\\lib\\site-packages\\pandas\\core\\generic.py:6288: SettingWithCopyWarning: \n",
      "A value is trying to be set on a copy of a slice from a DataFrame\n",
      "\n",
      "See the caveats in the documentation: http://pandas.pydata.org/pandas-docs/stable/user_guide/indexing.html#returning-a-view-versus-a-copy\n",
      "  self._update_inplace(new_data)\n"
     ]
    }
   ],
   "source": [
    "cdf.fillna(cdf.mean(), inplace=True)"
   ]
  },
  {
   "cell_type": "code",
   "execution_count": 52,
   "metadata": {},
   "outputs": [
    {
     "data": {
      "text/plain": [
       "Transportation                    0\n",
       "Electricity Generation            0\n",
       "Residential                       0\n",
       "Commercial                        0\n",
       "Industrial                        0\n",
       "Percent of Total CO2 Emissions    0\n",
       "dtype: int64"
      ]
     },
     "execution_count": 52,
     "metadata": {},
     "output_type": "execute_result"
    }
   ],
   "source": [
    "cdf.isna().sum()"
   ]
  },
  {
   "cell_type": "markdown",
   "metadata": {},
   "source": [
    "# Plotting each feature"
   ]
  },
  {
   "cell_type": "code",
   "execution_count": 53,
   "metadata": {},
   "outputs": [],
   "source": [
    "viz = cdf[['Transportation',\"Electricity Generation\",\"Residential\",\"Commercial\",\"Industrial\",\"Percent of Total CO2 Emissions\"]]"
   ]
  },
  {
   "cell_type": "code",
   "execution_count": 54,
   "metadata": {},
   "outputs": [
    {
     "data": {
      "image/png": "[encoded data removed]",
      "text/plain": [
       "<Figure size 432x288 with 6 Axes>"
      ]
     },
     "metadata": {
      "needs_background": "light"
     },
     "output_type": "display_data"
    }
   ],
   "source": [
    "viz.hist()\n",
    "plt.show()"
   ]
  },
  {
   "cell_type": "markdown",
   "metadata": {},
   "source": [
    "Now as our dependent variable is percentage of CO2 emmision we are seeing various relations with independent variables"
   ]
  },
  {
   "cell_type": "code",
   "execution_count": 55,
   "metadata": {},
   "outputs": [
    {
     "data": {
      "image/png": "[encoded data removed]",
      "text/plain": [
       "<Figure size 432x288 with 1 Axes>"
      ]
     },
     "metadata": {
      "needs_background": "light"
     },
     "output_type": "display_data"
    }
   ],
   "source": [
    "plt.scatter(cdf[\"Residential\"], cdf[\"Percent of Total CO2 Emissions\"] ,color='blue')\n",
    "plt.xlabel(\"Residential\")\n",
    "plt.ylabel(\"Emission\")\n",
    "plt.show()"
   ]
  },
  {
   "cell_type": "code",
   "execution_count": 56,
   "metadata": {},
   "outputs": [
    {
     "data": {
      "image/png": "[encoded data removed]",
      "text/plain": [
       "<Figure size 432x288 with 1 Axes>"
      ]
     },
     "metadata": {
      "needs_background": "light"
     },
     "output_type": "display_data"
    }
   ],
   "source": [
    "plt.scatter(cdf[\"Industrial\"], cdf[\"Percent of Total CO2 Emissions\"] ,color='blue')\n",
    "plt.xlabel(\"Industrial\")\n",
    "plt.ylabel(\"Emission\")\n",
    "plt.show()"
   ]
  },
  {
   "cell_type": "code",
   "execution_count": 57,
   "metadata": {},
   "outputs": [
    {
     "data": {
      "text/html": [
       "<style  type=\"text/css\" >\n",
       "    #T_28688c74_c289_11e9_83e5_3c5282ba3d6arow0_col0 {\n",
       "            background-color:  #b40426;\n",
       "            color:  #f1f1f1;\n",
       "        }    #T_28688c74_c289_11e9_83e5_3c5282ba3d6arow0_col1 {\n",
       "            background-color:  #3b4cc0;\n",
       "            color:  #f1f1f1;\n",
       "        }    #T_28688c74_c289_11e9_83e5_3c5282ba3d6arow0_col2 {\n",
       "            background-color:  #3b4cc0;\n",
       "            color:  #f1f1f1;\n",
       "        }    #T_28688c74_c289_11e9_83e5_3c5282ba3d6arow0_col3 {\n",
       "            background-color:  #3b4cc0;\n",
       "            color:  #f1f1f1;\n",
       "        }    #T_28688c74_c289_11e9_83e5_3c5282ba3d6arow0_col4 {\n",
       "            background-color:  #3b4cc0;\n",
       "            color:  #f1f1f1;\n",
       "        }    #T_28688c74_c289_11e9_83e5_3c5282ba3d6arow0_col5 {\n",
       "            background-color:  #3b4cc0;\n",
       "            color:  #f1f1f1;\n",
       "        }    #T_28688c74_c289_11e9_83e5_3c5282ba3d6arow1_col0 {\n",
       "            background-color:  #3b4cc0;\n",
       "            color:  #f1f1f1;\n",
       "        }    #T_28688c74_c289_11e9_83e5_3c5282ba3d6arow1_col1 {\n",
       "            background-color:  #b40426;\n",
       "            color:  #f1f1f1;\n",
       "        }    #T_28688c74_c289_11e9_83e5_3c5282ba3d6arow1_col2 {\n",
       "            background-color:  #f6a586;\n",
       "            color:  #000000;\n",
       "        }    #T_28688c74_c289_11e9_83e5_3c5282ba3d6arow1_col3 {\n",
       "            background-color:  #e8765c;\n",
       "            color:  #000000;\n",
       "        }    #T_28688c74_c289_11e9_83e5_3c5282ba3d6arow1_col4 {\n",
       "            background-color:  #c32e31;\n",
       "            color:  #f1f1f1;\n",
       "        }    #T_28688c74_c289_11e9_83e5_3c5282ba3d6arow1_col5 {\n",
       "            background-color:  #f7ad90;\n",
       "            color:  #000000;\n",
       "        }    #T_28688c74_c289_11e9_83e5_3c5282ba3d6arow2_col0 {\n",
       "            background-color:  #5a78e4;\n",
       "            color:  #000000;\n",
       "        }    #T_28688c74_c289_11e9_83e5_3c5282ba3d6arow2_col1 {\n",
       "            background-color:  #f49a7b;\n",
       "            color:  #000000;\n",
       "        }    #T_28688c74_c289_11e9_83e5_3c5282ba3d6arow2_col2 {\n",
       "            background-color:  #b40426;\n",
       "            color:  #f1f1f1;\n",
       "        }    #T_28688c74_c289_11e9_83e5_3c5282ba3d6arow2_col3 {\n",
       "            background-color:  #d55042;\n",
       "            color:  #000000;\n",
       "        }    #T_28688c74_c289_11e9_83e5_3c5282ba3d6arow2_col4 {\n",
       "            background-color:  #f18f71;\n",
       "            color:  #000000;\n",
       "        }    #T_28688c74_c289_11e9_83e5_3c5282ba3d6arow2_col5 {\n",
       "            background-color:  #f5c4ac;\n",
       "            color:  #000000;\n",
       "        }    #T_28688c74_c289_11e9_83e5_3c5282ba3d6arow3_col0 {\n",
       "            background-color:  #536edd;\n",
       "            color:  #000000;\n",
       "        }    #T_28688c74_c289_11e9_83e5_3c5282ba3d6arow3_col1 {\n",
       "            background-color:  #e46e56;\n",
       "            color:  #000000;\n",
       "        }    #T_28688c74_c289_11e9_83e5_3c5282ba3d6arow3_col2 {\n",
       "            background-color:  #d65244;\n",
       "            color:  #000000;\n",
       "        }    #T_28688c74_c289_11e9_83e5_3c5282ba3d6arow3_col3 {\n",
       "            background-color:  #b40426;\n",
       "            color:  #f1f1f1;\n",
       "        }    #T_28688c74_c289_11e9_83e5_3c5282ba3d6arow3_col4 {\n",
       "            background-color:  #d65244;\n",
       "            color:  #000000;\n",
       "        }    #T_28688c74_c289_11e9_83e5_3c5282ba3d6arow3_col5 {\n",
       "            background-color:  #f6a385;\n",
       "            color:  #000000;\n",
       "        }    #T_28688c74_c289_11e9_83e5_3c5282ba3d6arow4_col0 {\n",
       "            background-color:  #4961d2;\n",
       "            color:  #f1f1f1;\n",
       "        }    #T_28688c74_c289_11e9_83e5_3c5282ba3d6arow4_col1 {\n",
       "            background-color:  #c12b30;\n",
       "            color:  #f1f1f1;\n",
       "        }    #T_28688c74_c289_11e9_83e5_3c5282ba3d6arow4_col2 {\n",
       "            background-color:  #f39475;\n",
       "            color:  #000000;\n",
       "        }    #T_28688c74_c289_11e9_83e5_3c5282ba3d6arow4_col3 {\n",
       "            background-color:  #d75445;\n",
       "            color:  #000000;\n",
       "        }    #T_28688c74_c289_11e9_83e5_3c5282ba3d6arow4_col4 {\n",
       "            background-color:  #b40426;\n",
       "            color:  #f1f1f1;\n",
       "        }    #T_28688c74_c289_11e9_83e5_3c5282ba3d6arow4_col5 {\n",
       "            background-color:  #f7b194;\n",
       "            color:  #000000;\n",
       "        }    #T_28688c74_c289_11e9_83e5_3c5282ba3d6arow5_col0 {\n",
       "            background-color:  #c1d4f4;\n",
       "            color:  #000000;\n",
       "        }    #T_28688c74_c289_11e9_83e5_3c5282ba3d6arow5_col1 {\n",
       "            background-color:  #ea7b60;\n",
       "            color:  #000000;\n",
       "        }    #T_28688c74_c289_11e9_83e5_3c5282ba3d6arow5_col2 {\n",
       "            background-color:  #f4987a;\n",
       "            color:  #000000;\n",
       "        }    #T_28688c74_c289_11e9_83e5_3c5282ba3d6arow5_col3 {\n",
       "            background-color:  #e97a5f;\n",
       "            color:  #000000;\n",
       "        }    #T_28688c74_c289_11e9_83e5_3c5282ba3d6arow5_col4 {\n",
       "            background-color:  #ed8366;\n",
       "            color:  #000000;\n",
       "        }    #T_28688c74_c289_11e9_83e5_3c5282ba3d6arow5_col5 {\n",
       "            background-color:  #b40426;\n",
       "            color:  #f1f1f1;\n",
       "        }</style><table id=\"T_28688c74_c289_11e9_83e5_3c5282ba3d6a\" ><thead>    <tr>        <th class=\"blank level0\" ></th>        <th class=\"col_heading level0 col0\" >Transportation</th>        <th class=\"col_heading level0 col1\" >Electricity Generation</th>        <th class=\"col_heading level0 col2\" >Residential</th>        <th class=\"col_heading level0 col3\" >Commercial</th>        <th class=\"col_heading level0 col4\" >Industrial</th>        <th class=\"col_heading level0 col5\" >Percent of Total CO2 Emissions</th>    </tr></thead><tbody>\n",
       "                <tr>\n",
       "                        <th id=\"T_28688c74_c289_11e9_83e5_3c5282ba3d6alevel0_row0\" class=\"row_heading level0 row0\" >Transportation</th>\n",
       "                        <td id=\"T_28688c74_c289_11e9_83e5_3c5282ba3d6arow0_col0\" class=\"data row0 col0\" >1</td>\n",
       "                        <td id=\"T_28688c74_c289_11e9_83e5_3c5282ba3d6arow0_col1\" class=\"data row0 col1\" >-0.16702</td>\n",
       "                        <td id=\"T_28688c74_c289_11e9_83e5_3c5282ba3d6arow0_col2\" class=\"data row0 col2\" >-0.0444898</td>\n",
       "                        <td id=\"T_28688c74_c289_11e9_83e5_3c5282ba3d6arow0_col3\" class=\"data row0 col3\" >-0.0738606</td>\n",
       "                        <td id=\"T_28688c74_c289_11e9_83e5_3c5282ba3d6arow0_col4\" class=\"data row0 col4\" >-0.111255</td>\n",
       "                        <td id=\"T_28688c74_c289_11e9_83e5_3c5282ba3d6arow0_col5\" class=\"data row0 col5\" >0.305616</td>\n",
       "            </tr>\n",
       "            <tr>\n",
       "                        <th id=\"T_28688c74_c289_11e9_83e5_3c5282ba3d6alevel0_row1\" class=\"row_heading level0 row1\" >Electricity Generation</th>\n",
       "                        <td id=\"T_28688c74_c289_11e9_83e5_3c5282ba3d6arow1_col0\" class=\"data row1 col0\" >-0.16702</td>\n",
       "                        <td id=\"T_28688c74_c289_11e9_83e5_3c5282ba3d6arow1_col1\" class=\"data row1 col1\" >1</td>\n",
       "                        <td id=\"T_28688c74_c289_11e9_83e5_3c5282ba3d6arow1_col2\" class=\"data row1 col2\" >0.706674</td>\n",
       "                        <td id=\"T_28688c74_c289_11e9_83e5_3c5282ba3d6arow1_col3\" class=\"data row1 col3\" >0.819421</td>\n",
       "                        <td id=\"T_28688c74_c289_11e9_83e5_3c5282ba3d6arow1_col4\" class=\"data row1 col4\" >0.954693</td>\n",
       "                        <td id=\"T_28688c74_c289_11e9_83e5_3c5282ba3d6arow1_col5\" class=\"data row1 col5\" >0.790111</td>\n",
       "            </tr>\n",
       "            <tr>\n",
       "                        <th id=\"T_28688c74_c289_11e9_83e5_3c5282ba3d6alevel0_row2\" class=\"row_heading level0 row2\" >Residential</th>\n",
       "                        <td id=\"T_28688c74_c289_11e9_83e5_3c5282ba3d6arow2_col0\" class=\"data row2 col0\" >-0.0444898</td>\n",
       "                        <td id=\"T_28688c74_c289_11e9_83e5_3c5282ba3d6arow2_col1\" class=\"data row2 col1\" >0.706674</td>\n",
       "                        <td id=\"T_28688c74_c289_11e9_83e5_3c5282ba3d6arow2_col2\" class=\"data row2 col2\" >1</td>\n",
       "                        <td id=\"T_28688c74_c289_11e9_83e5_3c5282ba3d6arow2_col3\" class=\"data row2 col3\" >0.896531</td>\n",
       "                        <td id=\"T_28688c74_c289_11e9_83e5_3c5282ba3d6arow2_col4\" class=\"data row2 col4\" >0.752285</td>\n",
       "                        <td id=\"T_28688c74_c289_11e9_83e5_3c5282ba3d6arow2_col5\" class=\"data row2 col5\" >0.741977</td>\n",
       "            </tr>\n",
       "            <tr>\n",
       "                        <th id=\"T_28688c74_c289_11e9_83e5_3c5282ba3d6alevel0_row3\" class=\"row_heading level0 row3\" >Commercial</th>\n",
       "                        <td id=\"T_28688c74_c289_11e9_83e5_3c5282ba3d6arow3_col0\" class=\"data row3 col0\" >-0.0738606</td>\n",
       "                        <td id=\"T_28688c74_c289_11e9_83e5_3c5282ba3d6arow3_col1\" class=\"data row3 col1\" >0.819421</td>\n",
       "                        <td id=\"T_28688c74_c289_11e9_83e5_3c5282ba3d6arow3_col2\" class=\"data row3 col2\" >0.896531</td>\n",
       "                        <td id=\"T_28688c74_c289_11e9_83e5_3c5282ba3d6arow3_col3\" class=\"data row3 col3\" >1</td>\n",
       "                        <td id=\"T_28688c74_c289_11e9_83e5_3c5282ba3d6arow3_col4\" class=\"data row3 col4\" >0.889302</td>\n",
       "                        <td id=\"T_28688c74_c289_11e9_83e5_3c5282ba3d6arow3_col5\" class=\"data row3 col5\" >0.809596</td>\n",
       "            </tr>\n",
       "            <tr>\n",
       "                        <th id=\"T_28688c74_c289_11e9_83e5_3c5282ba3d6alevel0_row4\" class=\"row_heading level0 row4\" >Industrial</th>\n",
       "                        <td id=\"T_28688c74_c289_11e9_83e5_3c5282ba3d6arow4_col0\" class=\"data row4 col0\" >-0.111255</td>\n",
       "                        <td id=\"T_28688c74_c289_11e9_83e5_3c5282ba3d6arow4_col1\" class=\"data row4 col1\" >0.954693</td>\n",
       "                        <td id=\"T_28688c74_c289_11e9_83e5_3c5282ba3d6arow4_col2\" class=\"data row4 col2\" >0.752285</td>\n",
       "                        <td id=\"T_28688c74_c289_11e9_83e5_3c5282ba3d6arow4_col3\" class=\"data row4 col3\" >0.889302</td>\n",
       "                        <td id=\"T_28688c74_c289_11e9_83e5_3c5282ba3d6arow4_col4\" class=\"data row4 col4\" >1</td>\n",
       "                        <td id=\"T_28688c74_c289_11e9_83e5_3c5282ba3d6arow4_col5\" class=\"data row4 col5\" >0.781075</td>\n",
       "            </tr>\n",
       "            <tr>\n",
       "                        <th id=\"T_28688c74_c289_11e9_83e5_3c5282ba3d6alevel0_row5\" class=\"row_heading level0 row5\" >Percent of Total CO2 Emissions</th>\n",
       "                        <td id=\"T_28688c74_c289_11e9_83e5_3c5282ba3d6arow5_col0\" class=\"data row5 col0\" >0.305616</td>\n",
       "                        <td id=\"T_28688c74_c289_11e9_83e5_3c5282ba3d6arow5_col1\" class=\"data row5 col1\" >0.790111</td>\n",
       "                        <td id=\"T_28688c74_c289_11e9_83e5_3c5282ba3d6arow5_col2\" class=\"data row5 col2\" >0.741977</td>\n",
       "                        <td id=\"T_28688c74_c289_11e9_83e5_3c5282ba3d6arow5_col3\" class=\"data row5 col3\" >0.809596</td>\n",
       "                        <td id=\"T_28688c74_c289_11e9_83e5_3c5282ba3d6arow5_col4\" class=\"data row5 col4\" >0.781075</td>\n",
       "                        <td id=\"T_28688c74_c289_11e9_83e5_3c5282ba3d6arow5_col5\" class=\"data row5 col5\" >1</td>\n",
       "            </tr>\n",
       "    </tbody></table>"
      ],
      "text/plain": [
       "<pandas.io.formats.style.Styler at 0x18b66ee5d08>"
      ]
     },
     "execution_count": 57,
     "metadata": {},
     "output_type": "execute_result"
    }
   ],
   "source": [
    "corr = cdf.corr()\n",
    "corr.style.background_gradient(cmap='coolwarm')"
   ]
  },
  {
   "cell_type": "markdown",
   "metadata": {},
   "source": [
    "# As we are dealing with simple linear regression\n",
    " we are considering only with percentage of co2 emmission with commercial as they have high correaltion"
   ]
  },
  {
   "cell_type": "code",
   "execution_count": 58,
   "metadata": {},
   "outputs": [
    {
     "data": {
      "image/png": "[encoded data removed]",
      "text/plain": [
       "<Figure size 432x288 with 1 Axes>"
      ]
     },
     "metadata": {
      "needs_background": "light"
     },
     "output_type": "display_data"
    }
   ],
   "source": [
    "plt.scatter(cdf[\"Commercial\"], cdf[\"Percent of Total CO2 Emissions\"] ,color='blue')\n",
    "plt.xlabel(\"Commercial\")\n",
    "plt.ylabel(\"Emission\")\n",
    "plt.show()"
   ]
  },
  {
   "cell_type": "markdown",
   "metadata": {},
   "source": [
    "Creating train and test dataset\n",
    "Train/Test Split involves splitting the dataset into training and testing sets respectively, which are mutually exclusive. After which, you train with the training set and test with the testing set. This will provide a more accurate evaluation on out-of-sample accuracy because the testing dataset is not part of the dataset that have been used to train the data. It is more realistic for real world problems.\n",
    "\n",
    "This means that we know the outcome of each data point in this dataset, making it great to test with! And since this data has not been used to train the model, the model has no knowledge of the outcome of these data points. So, in essence, it is truly an out-of-sample testing.\n",
    "\n",
    "Lets split our dataset into train and test sets, 80% of the entire data for training, and the 20% for testing. We create a mask to select random rows using np.random.rand() function:"
   ]
  },
  {
   "cell_type": "code",
   "execution_count": 61,
   "metadata": {},
   "outputs": [],
   "source": [
    "msk = np.random.rand(len(df)) < 0.8\n",
    "train = cdf[msk]\n",
    "test = cdf[~msk]"
   ]
  },
  {
   "cell_type": "code",
   "execution_count": 62,
   "metadata": {},
   "outputs": [
    {
     "data": {
      "image/png": "[encoded data removed]",
      "text/plain": [
       "<Figure size 432x288 with 1 Axes>"
      ]
     },
     "metadata": {
      "needs_background": "light"
     },
     "output_type": "display_data"
    }
   ],
   "source": [
    "# seeing the distribution of training data set\n",
    "plt.scatter(train[\"Commercial\"], train[\"Percent of Total CO2 Emissions\"] ,color='red')\n",
    "plt.xlabel(\"Commercial\")\n",
    "plt.ylabel(\"Emission\")\n",
    "plt.show()"
   ]
  },
  {
   "cell_type": "markdown",
   "metadata": {},
   "source": [
    "# Modeling\n",
    "Using sklearn package to model data."
   ]
  },
  {
   "cell_type": "code",
   "execution_count": 63,
   "metadata": {},
   "outputs": [
    {
     "data": {
      "text/plain": [
       "LinearRegression(copy_X=True, fit_intercept=True, n_jobs=None, normalize=False)"
      ]
     },
     "execution_count": 63,
     "metadata": {},
     "output_type": "execute_result"
    }
   ],
   "source": [
    "from sklearn import linear_model\n",
    "regr = linear_model.LinearRegression()\n",
    "train_x = np.asanyarray(train[['Commercial']])\n",
    "train_y = np.asanyarray(train[['Percent of Total CO2 Emissions']])\n",
    "regr.fit (train_x, train_y)"
   ]
  },
  {
   "cell_type": "code",
   "execution_count": 64,
   "metadata": {},
   "outputs": [
    {
     "name": "stdout",
     "output_type": "stream",
     "text": [
      "Coefficients:  [[2.31324729]]\n",
      "Intercept:  [-0.362566]\n"
     ]
    }
   ],
   "source": [
    "# The coefficients\n",
    "print ('Coefficients: ', regr.coef_)\n",
    "print ('Intercept: ',regr.intercept_)"
   ]
  },
  {
   "cell_type": "code",
   "execution_count": 65,
   "metadata": {},
   "outputs": [
    {
     "data": {
      "text/plain": [
       "Text(0, 0.5, 'Emission')"
      ]
     },
     "execution_count": 65,
     "metadata": {},
     "output_type": "execute_result"
    },
    {
     "data": {
      "image/png": "[encoded data removed]",
      "text/plain": [
       "<Figure size 432x288 with 1 Axes>"
      ]
     },
     "metadata": {
      "needs_background": "light"
     },
     "output_type": "display_data"
    }
   ],
   "source": [
    "plt.scatter(train[\"Commercial\"], train[\"Percent of Total CO2 Emissions\"],  color='blue')\n",
    "plt.plot(train_x, regr.coef_[0][0]*train_x + regr.intercept_[0], '-r')\n",
    "plt.xlabel(\"Commercial\")\n",
    "plt.ylabel(\"Emission\")"
   ]
  },
  {
   "cell_type": "markdown",
   "metadata": {},
   "source": [
    "# Now we are evaluating our model"
   ]
  },
  {
   "cell_type": "code",
   "execution_count": 66,
   "metadata": {},
   "outputs": [
    {
     "name": "stdout",
     "output_type": "stream",
     "text": [
      "Mean absolute error: 7.76\n",
      "Residual sum of squares (MSE): 79.21\n",
      "R2-score: -1.00\n"
     ]
    }
   ],
   "source": [
    "from sklearn.metrics import r2_score\n",
    "\n",
    "test_x = np.asanyarray(test[['Commercial']])\n",
    "test_y = np.asanyarray(test[['Percent of Total CO2 Emissions']])\n",
    "test_y_hat = regr.predict(test_x)\n",
    "\n",
    "print(\"Mean absolute error: %.2f\" % np.mean(np.absolute(test_y_hat - test_y)))\n",
    "print(\"Residual sum of squares (MSE): %.2f\" % np.mean((test_y_hat - test_y) ** 2))\n",
    "print(\"R2-score: %.2f\" % r2_score(test_y_hat , test_y) )"
   ]
  },
  {
   "cell_type": "code",
   "execution_count": 67,
   "metadata": {},
   "outputs": [
    {
     "data": {
      "text/plain": [
       "-0.9990800641362882"
      ]
     },
     "execution_count": 67,
     "metadata": {},
     "output_type": "execute_result"
    }
   ],
   "source": [
    "r2_score(test_y_hat , test_y)"
   ]
  }
 ],
 "metadata": {
  "kernelspec": {
   "display_name": "Python 3",
   "language": "python",
   "name": "python3"
  },
  "language_info": {
   "codemirror_mode": {
    "name": "ipython",
    "version": 3
   },
   "file_extension": ".py",
   "mimetype": "text/x-python",
   "name": "python",
   "nbconvert_exporter": "python",
   "pygments_lexer": "ipython3",
   "version": "3.7.4"
  }
 },
 "nbformat": 4,
 "nbformat_minor": 2
}
